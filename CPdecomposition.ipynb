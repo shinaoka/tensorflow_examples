{
 "cells": [
  {
   "cell_type": "code",
   "execution_count": 1,
   "metadata": {},
   "outputs": [],
   "source": [
    "import tensorflow as tf\n",
    "import tensorflow.contrib.eager as tfe\n",
    "\n",
    "tfe.enable_eager_execution()"
   ]
  },
  {
   "cell_type": "code",
   "execution_count": 20,
   "metadata": {},
   "outputs": [],
   "source": [
    "import numpy as np\n",
    "from itertools import *"
   ]
  },
  {
   "cell_type": "code",
   "execution_count": 3,
   "metadata": {},
   "outputs": [],
   "source": [
    "real_dtype = tf.float64\n",
    "cmplx_dtype = tf.complex128"
   ]
  },
  {
   "cell_type": "code",
   "execution_count": 173,
   "metadata": {},
   "outputs": [],
   "source": [
    "def squared_L2_norm(x):\n",
    "    \"\"\"\n",
    "    Squared L2 norm\n",
    "    \"\"\"\n",
    "    if x.dtype in [tf.float64, tf.float32, tf.float16]:\n",
    "        return tf.reduce_sum(tf.multiply(x, x))\n",
    "    elif x.dtype in [tf.complex128, tf.complex64]:\n",
    "        return tf.reduce_sum(tf.real(tf.multiply(tf.conj(x), x)))\n",
    "    else:\n",
    "        raise RuntimeError(\"Unknown type: \" + x.dtype)\n",
    "    \n",
    "class CPModel(object):\n",
    "  \"\"\"\n",
    "  minimize |y - A * x|_2^2 + alpha * |x|_2^2\n",
    "  \"\"\"\n",
    "  def __init__(self, A, y, alpha, D):\n",
    "    N1 = A.shape[0]\n",
    "    self.right_dims = A.shape[1:]\n",
    "    self.right_dim = len(right_dims)\n",
    "    assert y.shape == tf.TensorShape([N1])\n",
    "    \n",
    "    def create_tensor(N, M):\n",
    "        rand = np.random.rand(N, M) + 1J * np.random.rand(N, M)\n",
    "        return tf.Variable(rand, dtype=cmplx_dtype)\n",
    "    \n",
    "    self.y = y\n",
    "    self.A = A\n",
    "    self.alpha = alpha\n",
    "    self.D = D\n",
    "    self.x_tensors = [create_tensor(D, right_dims[i]) for i in range(self.right_dim)]\n",
    "    #self.x = tf.Variable(np.zeros(), dtype=real_dtype)\n",
    "\n",
    "  def var_list(self):\n",
    "    \"\"\"\n",
    "    Return a list of model parameters\n",
    "    \"\"\"\n",
    "    return self.x_tensors\n",
    "\n",
    "  def full_tensor_x(self):\n",
    "    \"\"\"\n",
    "    Construct a full tensor representation of parameters\n",
    "    \n",
    "    sum_d T(d,i) * T(d,j) * T(d,k) * ...\n",
    "    \n",
    "    We construct the tensors as follows:\n",
    "        T(d, i) -> tildeT(d, i)\n",
    "        tildeT(d,i) * T(d,j) -> tildeT(d, i, j)\n",
    "        tildeT(d, i, j) * T(d, k) -> tildeT(d, i, j, k)\n",
    "        \n",
    "    \"\"\"\n",
    "    tildeT = self.x_tensors[0]\n",
    "    for i in range(1, self.right_dim):\n",
    "        tildeT_reshaped = tf.reshape(tildeT, (D,-1))\n",
    "        tildeT = tf.einsum('dI,di->dIi', tildeT_reshaped, self.x_tensors[i])\n",
    "    full_tensor = tf.reduce_sum(tf.reshape(tildeT, (D,) + tuple(right_dims)), axis=0)\n",
    "    assert full_tensor.shape == tf.TensorShape(right_dims)\n",
    "    return full_tensor\n",
    "\n",
    "  def predict_y(self):\n",
    "    \"\"\"\n",
    "    Predict y from self.x_tensors\n",
    "    \n",
    "    sum_d sum_{ijk...} A(n,ijk...) * T(d,i) * T(d,j) * T(d,k) * ...\n",
    "    \"\"\"\n",
    "    tildeA = tf.einsum('nij,di->njd', tf.reshape(self.A, (N1, right_dims[0], -1)), self.x_tensors[0])\n",
    "    for i in range(1, self.right_dim):\n",
    "        tilde_right_dims = self.right_dims[i:]\n",
    "        tildeA_reshaped = tf.reshape(tildeA, (N1,) + (self.right_dims[i],) + (-1, self.D,))\n",
    "        tildeA = tf.einsum('nijd,di->njd', tildeA_reshaped, self.x_tensors[i])\n",
    "    \n",
    "    assert tildeA.shape == tf.TensorShape([N1, 1, D])\n",
    "    return tf.reduce_sum(tf.reshape(tildeA, [N1,D]), axis=1)\n",
    "\n",
    "  def loss(self):\n",
    "    \"\"\"\n",
    "    Compute mean squared error + L2 regularization term\n",
    "    \"\"\"\n",
    "    y_pre = self.predict_y()\n",
    "    assert self.y.shape == y_pre.shape\n",
    "    return (squared_L2_norm(self.y - y_pre) + alpha * squared_L2_norm(self.full_tensor_x()))/N1"
   ]
  },
  {
   "cell_type": "code",
   "execution_count": 196,
   "metadata": {},
   "outputs": [],
   "source": [
    "N1 = 2\n",
    "right_dims = (1, 2, 3)\n",
    "np.random.seed(100)\n",
    "\n",
    "A = tf.constant(1J * np.random.randn(N1 * np.product(right_dims)).reshape((N1,) + right_dims), dtype=cmplx_dtype)\n",
    "y = tf.constant(np.random.randn(N1), dtype=cmplx_dtype)"
   ]
  },
  {
   "cell_type": "code",
   "execution_count": 197,
   "metadata": {},
   "outputs": [
    {
     "name": "stdout",
     "output_type": "stream",
     "text": [
      "current loss:  tf.Tensor(6.25897852137396, shape=(), dtype=float64)\n"
     ]
    }
   ],
   "source": [
    "alpha = 0.0\n",
    "D = 10\n",
    "model = CPModel(A, y, alpha, D)\n",
    "print(\"current loss: \", model.loss())"
   ]
  },
  {
   "cell_type": "code",
   "execution_count": 198,
   "metadata": {},
   "outputs": [],
   "source": [
    "learning_rate = 0.01\n",
    "\n",
    "def loss_f():\n",
    "    loss = model.loss()\n",
    "    losss.append(loss)\n",
    "    return loss\n",
    "\n",
    "losss = []\n",
    "diff_losss = []\n",
    "epochs = range(1000)\n",
    "tol_rmse = 1e-12\n",
    "for epoch in epochs:\n",
    "  with tf.GradientTape() as tape:\n",
    "      loss = loss_f()\n",
    "  grads = tape.gradient(loss, model.var_list())\n",
    "  \n",
    "  # Update parameters\n",
    "  var_list = model.var_list()\n",
    "  for i in range(len(var_list)):\n",
    "        var_list[i].assign_sub(learning_rate * grads[i])\n",
    "    \n",
    "  if len(losss) > 2:\n",
    "     diff_losss.append(np.abs(losss[-2] - losss[-1]))\n",
    "     if losss[-1] < tol_rmse**2 or np.abs(losss[-2] - losss[-1]) < tol_rmse**2:\n",
    "         break\n",
    "    "
   ]
  },
  {
   "cell_type": "code",
   "execution_count": 199,
   "metadata": {},
   "outputs": [
    {
     "data": {
      "image/png": "[encoded data removed]",
      "text/plain": [
       "<Figure size 432x288 with 1 Axes>"
      ]
     },
     "metadata": {},
     "output_type": "display_data"
    }
   ],
   "source": [
    "import matplotlib.pyplot as plt\n",
    "%matplotlib inline\n",
    "\n",
    "plt.plot(epochs[:len(losss)], losss)\n",
    "plt.yscale(\"log\")"
   ]
  },
  {
   "cell_type": "code",
   "execution_count": 200,
   "metadata": {},
   "outputs": [
    {
     "data": {
      "text/plain": [
       "[<matplotlib.lines.Line2D at 0x12da73160>]"
      ]
     },
     "execution_count": 200,
     "metadata": {},
     "output_type": "execute_result"
    },
    {
     "data": {
      "image/png": "[encoded data removed]",
      "text/plain": [
       "<Figure size 432x288 with 1 Axes>"
      ]
     },
     "metadata": {},
     "output_type": "display_data"
    }
   ],
   "source": [
    "plt.semilogy(diff_losss)"
   ]
  },
  {
   "cell_type": "code",
   "execution_count": 201,
   "metadata": {},
   "outputs": [
    {
     "data": {
      "text/plain": [
       "array([[[-2.77804109+2.96526526j, -1.16348313+1.80668804j,\n",
       "         -2.08775301+2.41566262j],\n",
       "        [-2.3477418 +2.33829092j, -1.40716313+1.69280929j,\n",
       "         -2.46342538+2.52175063j]]])"
      ]
     },
     "execution_count": 201,
     "metadata": {},
     "output_type": "execute_result"
    }
   ],
   "source": [
    "model.full_tensor_x().numpy()"
   ]
  },
  {
   "cell_type": "code",
   "execution_count": 206,
   "metadata": {},
   "outputs": [
    {
     "name": "stdout",
     "output_type": "stream",
     "text": [
      "tf.Tensor([-0.58359505+0.j  0.81684707+0.j], shape=(2,), dtype=complex128)\n",
      "[[-0.-1.74976547j  0.+0.3426804j   0.+1.1530358j  -0.-0.25243604j\n",
      "   0.+0.98132079j  0.+0.51421884j]\n",
      " [ 0.+0.22117967j -0.-1.07004333j -0.-0.18949583j  0.+0.25500144j\n",
      "  -0.-0.45802699j  0.+0.43516349j]]\n",
      "[-2.77804109+2.96526526j -1.16348313+1.80668804j -2.08775301+2.41566262j\n",
      " -2.3477418 +2.33829092j -1.40716313+1.69280929j -2.46342538+2.52175063j]\n"
     ]
    }
   ],
   "source": [
    "x = model.full_tensor_x().numpy().reshape(np.prod(right_dims))\n",
    "Amat = A.numpy().reshape((N1, np.prod(right_dims)))\n",
    "y_fit = Amat @ x\n",
    "print(y)\n",
    "print(Amat)\n",
    "print(x)"
   ]
  },
  {
   "cell_type": "code",
   "execution_count": 203,
   "metadata": {},
   "outputs": [
    {
     "data": {
      "text/plain": [
       "<tf.Tensor: id=4335083, shape=(2,), dtype=complex128, numpy=array([-3.13749027e-13-2.63788991e-13j, -1.50823798e-12-1.36624045e-12j])>"
      ]
     },
     "execution_count": 203,
     "metadata": {},
     "output_type": "execute_result"
    }
   ],
   "source": [
    "y - y_fit"
   ]
  }
 ],
 "metadata": {
  "kernelspec": {
   "display_name": "Python 3",
   "language": "python",
   "name": "python3"
  },
  "language_info": {
   "codemirror_mode": {
    "name": "ipython",
    "version": 3
   },
   "file_extension": ".py",
   "mimetype": "text/x-python",
   "name": "python",
   "nbconvert_exporter": "python",
   "pygments_lexer": "ipython3",
   "version": "3.6.5"
  }
 },
 "nbformat": 4,
 "nbformat_minor": 2
}
