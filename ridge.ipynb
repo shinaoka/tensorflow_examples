{
 "cells": [
  {
   "cell_type": "code",
   "execution_count": 1,
   "metadata": {},
   "outputs": [],
   "source": [
    "import tensorflow as tf\n",
    "import tensorflow.contrib.eager as tfe\n",
    "\n",
    "tfe.enable_eager_execution()"
   ]
  },
  {
   "cell_type": "code",
   "execution_count": 2,
   "metadata": {},
   "outputs": [],
   "source": [
    "import numpy as np"
   ]
  },
  {
   "cell_type": "code",
   "execution_count": 3,
   "metadata": {},
   "outputs": [],
   "source": [
    "real_dtype = tf.float64\n",
    "cmplx_dtype = tf.complex128"
   ]
  },
  {
   "cell_type": "code",
   "execution_count": 4,
   "metadata": {},
   "outputs": [],
   "source": [
    "def squared_L2_norm(x):\n",
    "    \"\"\"\n",
    "    Squared L2 norm\n",
    "    \"\"\"\n",
    "    if x.dtype in [tf.float64, tf.float32, tf.float16]:\n",
    "        return tf.reduce_sum(tf.real(tf.multiply(tf.conj(x), x)))\n",
    "    elif x.dtype in [tf.complex128, tf.complex64, tf.complex32]:\n",
    "        return tf.reduce_sum(tf.multiply(x, x))\n",
    "    \n",
    "class RidgeModel(object):\n",
    "  \"\"\"\n",
    "  minimize |y - A * x|_2^2 + alpha * |x|_2^2\n",
    "  \"\"\"\n",
    "  def __init__(self, A, y, alpha):\n",
    "    N1, N2 = A.shape\n",
    "    assert y.shape == tf.TensorShape([N1])\n",
    "    \n",
    "    self.y = y\n",
    "    self.A = A\n",
    "    self.alpha = alpha\n",
    "    self.x = tf.Variable(np.zeros((N2)), dtype=real_dtype)\n",
    "\n",
    "  def predict_y(self):\n",
    "    x_reshaped = tf.reshape(self.x, (N2,1))\n",
    "    return tf.reshape(tf.matmul(self.A, x_reshaped), (N1,))\n",
    "\n",
    "  def loss(self):\n",
    "    \"\"\"\n",
    "    Compute mean squared error\n",
    "    \"\"\"\n",
    "    y_pre = self.predict_y()\n",
    "    assert self.y.shape == y_pre.shape\n",
    "    return (squared_L2_norm(self.y - y_pre) + alpha * squared_L2_norm(self.x))/N1"
   ]
  },
  {
   "cell_type": "code",
   "execution_count": 5,
   "metadata": {},
   "outputs": [],
   "source": [
    "N1, N2 = 100, 100\n",
    "np.random.seed(100)\n",
    "A = tf.constant(np.random.randn(N1, N2), dtype=real_dtype)\n",
    "y = tf.constant(np.random.randn(N1), dtype=real_dtype)"
   ]
  },
  {
   "cell_type": "code",
   "execution_count": 6,
   "metadata": {},
   "outputs": [
    {
     "name": "stdout",
     "output_type": "stream",
     "text": [
      "current loss:  tf.Tensor(0.7955674246026129, shape=(), dtype=float64)\n"
     ]
    }
   ],
   "source": [
    "alpha = 0.1\n",
    "model = RidgeModel(A, y, alpha)\n",
    "print(\"current loss: \", model.loss())"
   ]
  },
  {
   "cell_type": "code",
   "execution_count": 7,
   "metadata": {},
   "outputs": [],
   "source": [
    "#learning_rate = 0.001\n",
    "#optimizer = tf.train.AdamOptimizer(0.1)\n",
    "#optimizer = tf.train.AdagradOptimizer(learning_rate = 10)\n",
    "optimizer = tf.train.GradientDescentOptimizer(0.1)\n",
    "\n",
    "def loss_f():\n",
    "    loss = model.loss()\n",
    "    losss.append(loss)\n",
    "    return loss\n",
    "\n",
    "losss = []\n",
    "diff_losss = []\n",
    "epochs = range(5000)\n",
    "tol_rmse = 1e-12\n",
    "for epoch in epochs:\n",
    "  grads = optimizer.compute_gradients(loss_f, var_list=[model.x])\n",
    "  optimizer.apply_gradients(grads, global_step=tf.train.get_or_create_global_step())\n",
    "  if len(losss) > 2:\n",
    "    diff_losss.append(np.abs(losss[-2] - losss[-1]))\n",
    "    if losss[-1] < tol_rmse**2 or np.abs(losss[-2] - losss[-1]) < tol_rmse**2:\n",
    "        break\n",
    "    "
   ]
  },
  {
   "cell_type": "code",
   "execution_count": 9,
   "metadata": {},
   "outputs": [
    {
     "data": {
      "image/png": "[encoded data removed]",
      "text/plain": [
       "<Figure size 432x288 with 1 Axes>"
      ]
     },
     "metadata": {},
     "output_type": "display_data"
    }
   ],
   "source": [
    "import matplotlib.pyplot as plt\n",
    "%matplotlib inline\n",
    "\n",
    "plt.plot(epochs[:len(losss)], losss)\n",
    "plt.yscale(\"log\")"
   ]
  },
  {
   "cell_type": "code",
   "execution_count": 10,
   "metadata": {},
   "outputs": [
    {
     "data": {
      "text/plain": [
       "[<matplotlib.lines.Line2D at 0x12a159d30>]"
      ]
     },
     "execution_count": 10,
     "metadata": {},
     "output_type": "execute_result"
    },
    {
     "data": {
      "image/png": "[encoded data removed]",
      "text/plain": [
       "<Figure size 432x288 with 1 Axes>"
      ]
     },
     "metadata": {},
     "output_type": "display_data"
    }
   ],
   "source": [
    "plt.semilogy(diff_losss)"
   ]
  },
  {
   "cell_type": "code",
   "execution_count": null,
   "metadata": {},
   "outputs": [],
   "source": []
  },
  {
   "cell_type": "code",
   "execution_count": null,
   "metadata": {},
   "outputs": [],
   "source": [
    "print(model.x)"
   ]
  },
  {
   "cell_type": "code",
   "execution_count": 11,
   "metadata": {},
   "outputs": [],
   "source": [
    "import scipy\n",
    "import numpy\n",
    "\n",
    "def ridge_svd(X, y, alpha, cutoff = 1e-10):\n",
    "    N1, N2 = X.shape\n",
    "    U, s, Vt = scipy.linalg.svd(X, full_matrices=False)\n",
    "    Nm = s.size\n",
    "    idx = s > cutoff * s[0]\n",
    "    s_nnz = s[idx][:, numpy.newaxis]\n",
    "    UTy = numpy.dot(U.T, y)\n",
    "    d = numpy.zeros((Nm,1), dtype=X.dtype)\n",
    "    d[idx] = s_nnz / (s_nnz ** 2 + alpha)\n",
    "    d_UT_y = d.reshape((Nm,)) * UTy.reshape((Nm,))\n",
    "    return numpy.dot(Vt.T, d_UT_y)"
   ]
  },
  {
   "cell_type": "code",
   "execution_count": 12,
   "metadata": {},
   "outputs": [],
   "source": [
    "x_corr = ridge_svd(A.numpy(), y.numpy(), alpha)"
   ]
  },
  {
   "cell_type": "code",
   "execution_count": 13,
   "metadata": {},
   "outputs": [
    {
     "data": {
      "text/plain": [
       "<tf.Tensor: id=470029, shape=(100,), dtype=float64, numpy=\n",
       "array([ 6.83309585e-03, -1.34392523e-03, -5.65233824e-03,  2.74337177e-03,\n",
       "       -1.61043009e-03,  2.73610752e-03, -1.73110657e-03,  9.38828674e-03,\n",
       "        4.72523083e-03,  1.57804988e-03, -2.16891450e-03,  4.60498746e-03,\n",
       "       -7.95832773e-03,  4.12422400e-03, -1.15274265e-03,  6.74771099e-04,\n",
       "       -3.03590460e-03,  4.40603795e-03,  1.35453462e-03, -7.35365686e-04,\n",
       "        7.81679266e-03,  4.86560569e-03,  3.17139689e-03, -8.96710904e-03,\n",
       "       -7.79958238e-04,  1.66424258e-03, -4.37966193e-03, -3.29361651e-03,\n",
       "        4.42452357e-04,  5.72159233e-03, -3.74076658e-03, -8.22183051e-03,\n",
       "       -4.35843874e-03, -1.05812065e-03, -2.28344188e-03, -2.01313006e-03,\n",
       "       -4.20714880e-03,  2.77440018e-03, -2.68064635e-03, -7.34260163e-03,\n",
       "        6.85405917e-03, -1.58448784e-03,  5.30355965e-03,  4.94677410e-04,\n",
       "       -6.11565505e-03,  4.30120206e-03, -1.07448148e-02,  4.78924779e-03,\n",
       "        3.17559509e-03,  6.25225489e-03,  4.75281835e-03, -5.95820786e-03,\n",
       "       -1.17451373e-03,  8.20292830e-03, -4.45797722e-03, -2.46657564e-03,\n",
       "       -1.83928106e-03, -9.87130156e-03, -1.06787852e-04,  1.21904516e-02,\n",
       "       -1.57468059e-03,  9.31573588e-04,  6.84771279e-03,  8.61606655e-03,\n",
       "       -3.01497568e-03,  7.26339451e-03, -3.31274060e-03, -2.27593167e-03,\n",
       "        8.55678884e-03,  5.33265188e-03,  9.77227720e-03,  9.85365598e-04,\n",
       "       -1.86491349e-03, -6.43925559e-04,  1.08067188e-03,  5.91368118e-05,\n",
       "        4.28786655e-03,  2.96225145e-03, -8.84266465e-03, -4.53731094e-04,\n",
       "       -1.15497895e-03,  6.12510912e-03, -3.81180334e-03,  5.54626231e-03,\n",
       "       -4.56096261e-04, -2.15508909e-03,  1.56312921e-03, -3.32449023e-03,\n",
       "        7.75581518e-03,  7.21496341e-04, -8.87708338e-04,  5.30692376e-03,\n",
       "        8.47652027e-05,  4.88100069e-03,  8.01312477e-03,  7.63616479e-03,\n",
       "       -6.39284406e-03,  5.51960449e-03,  1.98194446e-03, -2.93003537e-03])>"
      ]
     },
     "execution_count": 13,
     "metadata": {},
     "output_type": "execute_result"
    }
   ],
   "source": [
    "x_corr - model.x"
   ]
  }
 ],
 "metadata": {
  "kernelspec": {
   "display_name": "Python 3",
   "language": "python",
   "name": "python3"
  },
  "language_info": {
   "codemirror_mode": {
    "name": "ipython",
    "version": 3
   },
   "file_extension": ".py",
   "mimetype": "text/x-python",
   "name": "python",
   "nbconvert_exporter": "python",
   "pygments_lexer": "ipython3",
   "version": "3.6.5"
  }
 },
 "nbformat": 4,
 "nbformat_minor": 2
}
