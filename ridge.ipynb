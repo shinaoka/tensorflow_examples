{
 "cells": [
  {
   "cell_type": "code",
   "execution_count": 1,
   "metadata": {},
   "outputs": [],
   "source": [
    "import tensorflow as tf\n",
    "import tensorflow.contrib.eager as tfe\n",
    "\n",
    "tfe.enable_eager_execution()"
   ]
  },
  {
   "cell_type": "code",
   "execution_count": 9,
   "metadata": {},
   "outputs": [],
   "source": [
    "#a = tf.zeros([1], dtype=tf.float64)\n",
    "#b = tf.Tensor([[2,4], [1, 0]],  dtype=tf.float64)\n",
    "#a = tf.Variable(5.0, dtype=tf.float64)"
   ]
  },
  {
   "cell_type": "code",
   "execution_count": 14,
   "metadata": {},
   "outputs": [],
   "source": [
    "import numpy as np"
   ]
  },
  {
   "cell_type": "code",
   "execution_count": 20,
   "metadata": {},
   "outputs": [],
   "source": [
    "real_dtype = tf.float64\n",
    "cmplx_dtype = tf.complex128"
   ]
  },
  {
   "cell_type": "code",
   "execution_count": 226,
   "metadata": {},
   "outputs": [],
   "source": [
    "def squared_L2_norm(x):\n",
    "    \"\"\"\n",
    "    Squared L2 norm\n",
    "    \"\"\"\n",
    "    if x.dtype in [tf.float64, tf.float32, tf.float16]:\n",
    "        return tf.reduce_sum(tf.real(tf.multiply(tf.conj(x), x)))\n",
    "    elif x.dtype in [tf.complex128, tf.complex64, tf.complex32]:\n",
    "        return tf.reduce_sum(tf.multiply(x, x))\n",
    "    \n",
    "class RidgeModel(object):\n",
    "  \"\"\"\n",
    "  minimize |y - A * x|_2^2\n",
    "  \"\"\"\n",
    "  def __init__(self, A, y):\n",
    "    N1, N2 = A.shape\n",
    "    assert y.shape == tf.TensorShape([N1])\n",
    "    \n",
    "    self.y = y\n",
    "    self.A = A\n",
    "    self.x = tf.Variable(np.zeros((N2)), dtype=tf.float64)\n",
    "\n",
    "  def predict_y(self):\n",
    "    x_reshaped = tf.reshape(self.x, (N2,1))\n",
    "    return tf.reshape(tf.matmul(self.A, x_reshaped), (N1,))\n",
    "\n",
    "  def loss(self):\n",
    "    y_pre = self.predict_y()\n",
    "    assert self.y.shape == y_pre.shape\n",
    "    return squared_L2_norm(self.y - y_pre)"
   ]
  },
  {
   "cell_type": "code",
   "execution_count": 227,
   "metadata": {},
   "outputs": [],
   "source": [
    "N1, N2 = 2, 2\n",
    "np.random.seed(100)\n",
    "A = tf.constant(np.random.randn(N1, N2), dtype=tf.float64)\n",
    "y = tf.constant(np.random.randn(N1), dtype=tf.float64)"
   ]
  },
  {
   "cell_type": "code",
   "execution_count": 18,
   "metadata": {},
   "outputs": [],
   "source": [
    "#a = tf.Variable(np.identity((4)))"
   ]
  },
  {
   "cell_type": "code",
   "execution_count": 228,
   "metadata": {},
   "outputs": [
    {
     "name": "stdout",
     "output_type": "stream",
     "text": [
      "current loss:  tf.Tensor(1.2274115037475652, shape=(), dtype=float64)\n"
     ]
    }
   ],
   "source": [
    "model = RidgeModel(A, y)\n",
    "print(\"current loss: \", model.loss())"
   ]
  },
  {
   "cell_type": "code",
   "execution_count": 229,
   "metadata": {},
   "outputs": [
    {
     "data": {
      "text/plain": [
       "<tf.Variable 'Variable:0' shape=(2,) dtype=float64, numpy=array([0., 0.])>"
      ]
     },
     "execution_count": 229,
     "metadata": {},
     "output_type": "execute_result"
    }
   ],
   "source": [
    "model.x"
   ]
  },
  {
   "cell_type": "code",
   "execution_count": 230,
   "metadata": {},
   "outputs": [],
   "source": [
    "#learning_rate = 0.001\n",
    "#optimizer = tf.train.AdamOptimizer()\n",
    "#optimizer = tf.train.AdagradOptimizer(learning_rate = 10)\n",
    "\n",
    "optimizer = tf.train.GradientDescentOptimizer(0.1)\n",
    "\n",
    "def loss_f():\n",
    "    loss = model.loss()\n",
    "    losss.append(loss)\n",
    "    return loss\n",
    "\n",
    "losss = []\n",
    "epochs = range(10000)\n",
    "for epoch in epochs:\n",
    "  grads = optimizer.compute_gradients(loss_f, var_list=[model.x])\n",
    "  optimizer.apply_gradients(grads, global_step=tf.train.get_or_create_global_step())"
   ]
  },
  {
   "cell_type": "code",
   "execution_count": 231,
   "metadata": {},
   "outputs": [
    {
     "data": {
      "text/plain": [
       "[<matplotlib.lines.Line2D at 0x12c3a2f98>]"
      ]
     },
     "execution_count": 231,
     "metadata": {},
     "output_type": "execute_result"
    },
    {
     "data": {
      "image/png": "[encoded data removed]",
      "text/plain": [
       "<Figure size 432x288 with 1 Axes>"
      ]
     },
     "metadata": {},
     "output_type": "display_data"
    }
   ],
   "source": [
    "import matplotlib.pyplot as plt\n",
    "%matplotlib inline\n",
    "\n",
    "#print(losss)\n",
    "#plt.semilogy(epochs, losss)\n",
    "plt.plot(epochs, losss)"
   ]
  },
  {
   "cell_type": "code",
   "execution_count": 190,
   "metadata": {},
   "outputs": [
    {
     "data": {
      "text/plain": [
       "<tf.Tensor: id=3195020, shape=(2,), dtype=float64, numpy=array([0.98132079, 0.51421884])>"
      ]
     },
     "execution_count": 190,
     "metadata": {},
     "output_type": "execute_result"
    }
   ],
   "source": [
    "model.predict_y()"
   ]
  },
  {
   "cell_type": "code",
   "execution_count": 191,
   "metadata": {},
   "outputs": [
    {
     "data": {
      "text/plain": [
       "<tf.Variable 'Variable:0' shape=(2,) dtype=float64, numpy=array([ -9.10097805, -43.60697671])>"
      ]
     },
     "execution_count": 191,
     "metadata": {},
     "output_type": "execute_result"
    }
   ],
   "source": [
    "model.x"
   ]
  },
  {
   "cell_type": "code",
   "execution_count": 175,
   "metadata": {},
   "outputs": [],
   "source": [
    "#model.x = r[0]"
   ]
  },
  {
   "cell_type": "code",
   "execution_count": 192,
   "metadata": {},
   "outputs": [
    {
     "name": "stderr",
     "output_type": "stream",
     "text": [
      "/usr/local/var/pyenv/versions/3.6.5/Python.framework/Versions/3.6/lib/python3.6/site-packages/ipykernel_launcher.py:1: FutureWarning: `rcond` parameter will change to the default of machine precision times ``max(M, N)`` where M and N are the input matrix dimensions.\n",
      "To use the future default and silence this warning we advise to pass `rcond=None`, to keep using the old, explicitly pass `rcond=-1`.\n",
      "  \"\"\"Entry point for launching an IPython kernel.\n"
     ]
    }
   ],
   "source": [
    "r = np.linalg.lstsq(A.numpy(), y.numpy())"
   ]
  },
  {
   "cell_type": "code",
   "execution_count": 177,
   "metadata": {},
   "outputs": [
    {
     "data": {
      "text/plain": [
       "array([ -9.10097805, -43.60697671])"
      ]
     },
     "execution_count": 177,
     "metadata": {},
     "output_type": "execute_result"
    }
   ],
   "source": [
    "r[0]"
   ]
  },
  {
   "cell_type": "code",
   "execution_count": 116,
   "metadata": {},
   "outputs": [
    {
     "data": {
      "text/plain": [
       "3.0593011980602364e-29"
      ]
     },
     "execution_count": 116,
     "metadata": {},
     "output_type": "execute_result"
    }
   ],
   "source": [
    "x_corr = r[0]\n",
    "np.linalg.norm(y.numpy() - A.numpy()@x_corr)**2"
   ]
  }
 ],
 "metadata": {
  "kernelspec": {
   "display_name": "Python 3",
   "language": "python",
   "name": "python3"
  },
  "language_info": {
   "codemirror_mode": {
    "name": "ipython",
    "version": 3
   },
   "file_extension": ".py",
   "mimetype": "text/x-python",
   "name": "python",
   "nbconvert_exporter": "python",
   "pygments_lexer": "ipython3",
   "version": "3.6.5"
  }
 },
 "nbformat": 4,
 "nbformat_minor": 2
}
