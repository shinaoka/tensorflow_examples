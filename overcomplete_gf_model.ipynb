{
 "cells": [
  {
   "cell_type": "code",
   "execution_count": 1,
   "metadata": {},
   "outputs": [],
   "source": [
    "import tensorflow as tf\n",
    "import tensorflow.contrib.eager as tfe\n",
    "\n",
    "tfe.enable_eager_execution()"
   ]
  },
  {
   "cell_type": "code",
   "execution_count": 2,
   "metadata": {},
   "outputs": [],
   "source": [
    "import numpy as np\n",
    "from itertools import *"
   ]
  },
  {
   "cell_type": "code",
   "execution_count": 3,
   "metadata": {},
   "outputs": [],
   "source": [
    "real_dtype = tf.float64\n",
    "cmplx_dtype = tf.complex128"
   ]
  },
  {
   "cell_type": "code",
   "execution_count": 77,
   "metadata": {},
   "outputs": [],
   "source": [
    "\"\"\"\n",
    "Decomposition of A tensors\n",
    "A(n, r, l1, l2, ...) = U_1(n, r, l1) * U_2(n, r, l2) * ...\n",
    "\n",
    "The full tensor can be constructed as follows:\n",
    "   U_1(n, r, l1)                    -> tildeA(n, r, l1)\n",
    "   tildeA(n, r, l1) * U_2(n, r, l2) -> tildeA(n, r, l1, l2)\n",
    "\"\"\"\n",
    "\n",
    "def full_A_tensor(tensors_A):\n",
    "    Nw = tensors_A[0].shape[0]\n",
    "    Nr = tensors_A[0].shape[1]\n",
    "    dim = len(tensors_A)\n",
    "    \n",
    "    tildeA = tensors_A[0]\n",
    "    for i in range(1, dim):\n",
    "        tildeA_reshaped = tf.reshape(tildeA, (Nw, Nr, -1))\n",
    "        tildeA = tf.einsum('nrl,nrm->nrlm', tildeA_reshaped, tensors_A[i])\n",
    "    \n",
    "    full_tensor_dims = tuple([Nw, Nr] + [t.shape[-1] for t in tensors_A])\n",
    "    return tf.reshape(tildeA, full_tensor_dims)\n"
   ]
  },
  {
   "cell_type": "code",
   "execution_count": 78,
   "metadata": {},
   "outputs": [],
   "source": [
    "N = 4\n",
    "Nr = 3\n",
    "Nl = 2\n",
    "\n",
    "def create_tensor_3(N, M, L):\n",
    "    rand = np.random.rand(N, M, L) + 1J * np.random.rand(N, M, L)\n",
    "    return tf.Variable(rand, dtype=cmplx_dtype)\n",
    "\n",
    "tensors_A = [create_tensor_3(N, Nr, Nl) for i in range(3)]\n",
    "A = full_A_tensor(tensors_A)"
   ]
  },
  {
   "cell_type": "code",
   "execution_count": 6,
   "metadata": {},
   "outputs": [],
   "source": [
    "def squared_L2_norm(x):\n",
    "    \"\"\"\n",
    "    Squared L2 norm\n",
    "    \"\"\"\n",
    "    if x.dtype in [tf.float64, tf.float32, tf.float16]:\n",
    "        return tf.reduce_sum(tf.multiply(x, x))\n",
    "    elif x.dtype in [tf.complex128, tf.complex64]:\n",
    "        return tf.reduce_sum(tf.real(tf.multiply(tf.conj(x), x)))\n",
    "    else:\n",
    "        raise RuntimeError(\"Unknown type: \" + x.dtype)\n",
    "\n",
    "def cp_to_full_tensor(x_tensors):\n",
    "    \"\"\"\n",
    "    Construct a full tensor representation\n",
    "    \n",
    "    sum_d X_0(d,l0) * X_1(d,l1) * X_2(d,l2) * ...\n",
    "    \n",
    "    We contract the tensors from left to right as follows:\n",
    "        X_0(d, l0) -> tildeT(d, l0)\n",
    "        tildeT(d,l0) * X_1(d,l1) -> tildeT(d, l0, l1)\n",
    "    \"\"\"\n",
    "    dim = len(x_tensors)\n",
    "    dims = [x.shape[1] for x in x_tensors]\n",
    "    D = x_tensors[0].shape[0]\n",
    "    \n",
    "    tildeT = x_tensors[0]\n",
    "    for i in range(1, dim):\n",
    "        tildeT_reshaped = tf.reshape(tildeT, (D,-1))\n",
    "        tildeT = tf.einsum('dI,di->dIi', tildeT_reshaped, x_tensors[i])\n",
    "    full_tensor = tf.reduce_sum(tf.reshape(tildeT, (D,) + tuple(dims)), axis=0)\n",
    "    assert full_tensor.shape == tf.TensorShape(dims)\n",
    "    return full_tensor\n",
    "\n",
    "class OvercompleteGFModel(object):\n",
    "    \"\"\"\n",
    "    minimize |y - A * x|_2^2 + alpha * |x|_2^2\n",
    "  \n",
    "    A(n, r, l1, l2, ...) = U_1(n, r, l1) * U_2(n, r, l2) * ...\n",
    "  \n",
    "    A_dim: (Nw, Nr, l1, l2, ...)\n",
    "    freq_dim is the number of l1, l2, ....\n",
    "    \n",
    "    x(d, r, l1, l2, ...) = \\sum_d X_0(d,r) * X_1(d,l1) * X_2(d,l2) * ...\n",
    "    \"\"\"\n",
    "    def __init__(self, Nw, Nr, freq_dim, linear_dim, tensors_A, y, alpha, D):\n",
    "        self.right_dims = (Nr,) + (linear_dim,) * freq_dim\n",
    "        self.right_dim = freq_dim + 1\n",
    "    \n",
    "        # Check shapes\n",
    "        assert y.shape == tf.TensorShape([Nw])\n",
    "        assert len(tensors_A) == freq_dim\n",
    "        for t in tensors_A:\n",
    "            assert t.shape == tf.TensorShape([Nw, Nr, linear_dim])\n",
    "    \n",
    "        self.y = y\n",
    "        self.tensors_A = tensors_A\n",
    "        self.alpha = alpha\n",
    "        self.Nw = Nw\n",
    "        self.Nr = Nr\n",
    "        self.freq_dim = freq_dim\n",
    "        self.D = D\n",
    "    \n",
    "        def create_tensor(N, M):\n",
    "            rand = np.random.rand(N, M) + 1J * np.random.rand(N, M)\n",
    "            return tf.Variable(rand, dtype=cmplx_dtype)\n",
    "    \n",
    "        self.x_tensors = [create_tensor(D, self.right_dims[i]) for i in range(self.right_dim)]\n",
    "\n",
    "    def var_list(self):\n",
    "        \"\"\"\n",
    "        Return a list of model parameters\n",
    "        \"\"\"\n",
    "        return self.x_tensors\n",
    "\n",
    "    def full_tensor_x(self):\n",
    "        return cp_to_full_tensor(self.x_tensors)\n",
    "\n",
    "    def predict_y(self):\n",
    "        \"\"\"\n",
    "        Predict y from self.x_tensors\n",
    "    \n",
    "        sum_d sum_{r,l1,l2,...} A(n, r, l1, l2, ...) * X_0(d,r) * X_1(d,l1) * X_2(d,l2) * ...\n",
    "    \n",
    "        We used A(n, r, l1, l2, ...) = U_1(n, r, l1) * U_2(n, r, l2) * ...\n",
    "    \n",
    "        We contract the tensors as follows:\n",
    "            U_1(n, r, l1) * X_1(d, l1) -> UX_1(n, r, d)\n",
    "            U_2(n, r, l2) * X_2(d, l2) -> UX_2(n, r, d)\n",
    "        \"\"\"\n",
    "        ones = tf.constant(np.full((Nw,),1), dtype=cmplx_dtype)\n",
    "        result = tf.einsum('dr,n->nrd', self.x_tensors[0], ones)\n",
    "        for i in range(1, self.right_dim):\n",
    "            UX = tf.einsum('nrl,dl->nrd', self.tensors_A[i-1], self.x_tensors[i])\n",
    "            result = tf.multiply(result, UX)\n",
    "        # At this point, \"result\" is shape of (Nw, Nr, D).\n",
    "        return tf.reduce_sum(result, axis = [1, 2])\n",
    "\n",
    "    def loss(self):\n",
    "        \"\"\"\n",
    "        Compute mean squared error + L2 regularization term\n",
    "        \"\"\"\n",
    "        y_pre = self.predict_y()\n",
    "        assert self.y.shape == y_pre.shape\n",
    "        return (squared_L2_norm(self.y - y_pre) + alpha * squared_L2_norm(self.full_tensor_x()))/self.Nw"
   ]
  },
  {
   "cell_type": "code",
   "execution_count": 85,
   "metadata": {},
   "outputs": [],
   "source": [
    "np.random.seed(100)\n",
    "\n",
    "Nw = 100\n",
    "Nr = 1\n",
    "linear_dim = 2\n",
    "freq_dim = 2\n",
    "right_dims = (Nr, Nl, Nl)\n",
    "\n",
    "def create_tensor_3(N, M, L):\n",
    "    rand = np.random.rand(N, M, L) + 1J * np.random.rand(N, M, L)\n",
    "    return tf.Variable(rand, dtype=cmplx_dtype)\n",
    "\n",
    "tensors_A = [create_tensor_3(Nw, Nr, linear_dim) for i in range(freq_dim)]\n",
    "y = tf.constant(np.random.randn(Nw) + 1J * np.random.randn(Nw), dtype=cmplx_dtype)"
   ]
  },
  {
   "cell_type": "code",
   "execution_count": 102,
   "metadata": {},
   "outputs": [
    {
     "name": "stdout",
     "output_type": "stream",
     "text": [
      "current loss:  tf.Tensor(140.46534879179336, shape=(), dtype=float64)\n",
      "CPU times: user 3.97 ms, sys: 957 µs, total: 4.93 ms\n",
      "Wall time: 4.12 ms\n"
     ]
    }
   ],
   "source": [
    "alpha = 0.1\n",
    "D = 20\n",
    "model = OvercompleteGFModel(Nw, Nr, freq_dim, linear_dim, tensors_A, y, alpha, D)\n",
    "%time print(\"current loss: \", model.loss())"
   ]
  },
  {
   "cell_type": "code",
   "execution_count": 113,
   "metadata": {},
   "outputs": [],
   "source": [
    "learning_rate = 0.001\n",
    "\n",
    "def loss_f():\n",
    "    loss = model.loss()\n",
    "    losss.append(loss)\n",
    "    return loss\n",
    "\n",
    "losss = []\n",
    "diff_losss = []\n",
    "epochs = range(10000)\n",
    "tol_rmse = 1e-12\n",
    "for epoch in epochs:\n",
    "    with tf.GradientTape() as tape:\n",
    "        loss = loss_f()\n",
    "    grads = tape.gradient(loss, model.var_list())\n",
    "  \n",
    "    # Update parameters\n",
    "    var_list = model.var_list()\n",
    "    for i in range(len(var_list)):\n",
    "        var_list[i].assign_sub(learning_rate * grads[i])\n",
    "    \n",
    "    if len(losss) > 2:\n",
    "        diff_losss.append(np.abs(losss[-2] - losss[-1]))\n",
    "        if losss[-1] < tol_rmse**2 or np.abs(losss[-2] - losss[-1]) < tol_rmse**2:\n",
    "            break\n",
    "    "
   ]
  },
  {
   "cell_type": "code",
   "execution_count": 114,
   "metadata": {},
   "outputs": [
    {
     "name": "stdout",
     "output_type": "stream",
     "text": [
      "tf.Tensor(1.9304015611663656, shape=(), dtype=float64)\n"
     ]
    },
    {
     "data": {
      "image/png": "[encoded data removed]",
      "text/plain": [
       "<Figure size 432x288 with 1 Axes>"
      ]
     },
     "metadata": {},
     "output_type": "display_data"
    }
   ],
   "source": [
    "import matplotlib.pyplot as plt\n",
    "%matplotlib inline\n",
    "\n",
    "plt.plot(epochs[:len(losss)], losss)\n",
    "plt.yscale(\"log\")\n",
    "print(losss[-1])"
   ]
  },
  {
   "cell_type": "code",
   "execution_count": 115,
   "metadata": {},
   "outputs": [
    {
     "data": {
      "text/plain": [
       "[<matplotlib.lines.Line2D at 0x120104a58>]"
      ]
     },
     "execution_count": 115,
     "metadata": {},
     "output_type": "execute_result"
    },
    {
     "data": {
      "image/png": "[encoded data removed]",
      "text/plain": [
       "<Figure size 432x288 with 1 Axes>"
      ]
     },
     "metadata": {},
     "output_type": "display_data"
    }
   ],
   "source": [
    "plt.semilogy(diff_losss)"
   ]
  },
  {
   "cell_type": "code",
   "execution_count": 116,
   "metadata": {},
   "outputs": [
    {
     "data": {
      "text/plain": [
       "array([-0.24319066+0.18813558j,  0.24302745-0.08420115j,\n",
       "        0.10191672-0.14802613j, -0.24934885+0.12445611j])"
      ]
     },
     "execution_count": 116,
     "metadata": {},
     "output_type": "execute_result"
    }
   ],
   "source": [
    "from irbasis_util.regression import ridge_complex\n",
    "\n",
    "A = full_A_tensor(tensors_A)\n",
    "\n",
    "Amat = A.numpy().reshape((Nw, -1))\n",
    "x_corr = ridge_complex(Amat, y.numpy(), alpha)\n",
    "x_corr"
   ]
  },
  {
   "cell_type": "code",
   "execution_count": 117,
   "metadata": {},
   "outputs": [
    {
     "data": {
      "text/plain": [
       "1.9301308466032625"
      ]
     },
     "execution_count": 117,
     "metadata": {},
     "output_type": "execute_result"
    }
   ],
   "source": [
    "(np.linalg.norm(y - Amat@x_corr)**2)/Nw"
   ]
  },
  {
   "cell_type": "code",
   "execution_count": 118,
   "metadata": {},
   "outputs": [],
   "source": [
    "#Amat@x_corr"
   ]
  },
  {
   "cell_type": "code",
   "execution_count": 119,
   "metadata": {},
   "outputs": [
    {
     "data": {
      "text/plain": [
       "array([-0.24251103+0.18765048j,  0.24238504-0.08381472j,\n",
       "        0.1013234 -0.14753457j, -0.24877003+0.12406331j])"
      ]
     },
     "execution_count": 119,
     "metadata": {},
     "output_type": "execute_result"
    }
   ],
   "source": [
    "model.full_tensor_x().numpy().reshape((-1))"
   ]
  }
 ],
 "metadata": {
  "kernelspec": {
   "display_name": "Python 3",
   "language": "python",
   "name": "python3"
  },
  "language_info": {
   "codemirror_mode": {
    "name": "ipython",
    "version": 3
   },
   "file_extension": ".py",
   "mimetype": "text/x-python",
   "name": "python",
   "nbconvert_exporter": "python",
   "pygments_lexer": "ipython3",
   "version": "3.6.5"
  }
 },
 "nbformat": 4,
 "nbformat_minor": 2
}
